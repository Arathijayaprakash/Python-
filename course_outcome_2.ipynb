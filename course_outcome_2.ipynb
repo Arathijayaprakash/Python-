{
  "nbformat": 4,
  "nbformat_minor": 0,
  "metadata": {
    "colab": {
      "name": "course outcome 2",
      "provenance": [],
      "collapsed_sections": [],
      "authorship_tag": "ABX9TyMnjyMRPRkftfccM3aH9OhA",
      "include_colab_link": true
    },
    "kernelspec": {
      "name": "python3",
      "display_name": "Python 3"
    }
  },
  "cells": [
    {
      "cell_type": "markdown",
      "metadata": {
        "id": "view-in-github",
        "colab_type": "text"
      },
      "source": [
        "<a href=\"https://colab.research.google.com/github/Arathijayaprakash/Python-/blob/master/course_outcome_2.ipynb\" target=\"_parent\"><img src=\"https://colab.research.google.com/assets/colab-badge.svg\" alt=\"Open In Colab\"/></a>"
      ]
    },
    {
      "cell_type": "code",
      "metadata": {
        "colab": {
          "base_uri": "https://localhost:8080/"
        },
        "id": "sWEbxPgbqIr5",
        "outputId": "13d5193c-671a-4c93-ad74-24ad656fc1ac"
      },
      "source": [
        "# 1.program to find the factorial of a number\n",
        "\n",
        "n=int(input(\"enter a number: \"))\n",
        "fact=1\n",
        "for i in range(1,n+1):\n",
        "  fact=fact*i\n",
        "  i+=1\n",
        "print(fact)"
      ],
      "execution_count": null,
      "outputs": [
        {
          "output_type": "stream",
          "text": [
            "enter a number: 10\n",
            "3628800\n"
          ],
          "name": "stdout"
        }
      ]
    },
    {
      "cell_type": "code",
      "metadata": {
        "id": "0omG-1lprwbZ",
        "colab": {
          "base_uri": "https://localhost:8080/"
        },
        "outputId": "04acccdd-5d49-49c6-a6a0-1d36f9edb712"
      },
      "source": [
        "# 2.generate fibonacci series of N terms\n",
        "\n",
        "N=int(input(\"enter no. of terms:\"))\n",
        "a=0\n",
        "b=1\n",
        "if (N<=0):\n",
        "  print(\"Enter a positive integer\")\n",
        "elif (n==1):\n",
        "  print(a)\n",
        "else:\n",
        "  for nth in range(N+1):\n",
        "    print(a)\n",
        "    nth=a+b\n",
        "    a=b\n",
        "    b=nth\n",
        "\n",
        "  "
      ],
      "execution_count": null,
      "outputs": [
        {
          "output_type": "stream",
          "text": [
            "enter no. of terms:4\n",
            "0\n",
            "1\n",
            "1\n",
            "2\n",
            "3\n"
          ],
          "name": "stdout"
        }
      ]
    },
    {
      "cell_type": "code",
      "metadata": {
        "colab": {
          "base_uri": "https://localhost:8080/"
        },
        "id": "pwYNy3dagz6a",
        "outputId": "3840b013-9958-4d10-d98a-50716762df74"
      },
      "source": [
        "# 3. sum of all numbers in a list\n",
        "\n",
        "list=[1,2,3,4,5]\n",
        "sum=0\n",
        "for x in list:\n",
        "  sum+=x\n",
        "print(sum)"
      ],
      "execution_count": null,
      "outputs": [
        {
          "output_type": "stream",
          "text": [
            "15\n"
          ],
          "name": "stdout"
        }
      ]
    },
    {
      "cell_type": "code",
      "metadata": {
        "colab": {
          "base_uri": "https://localhost:8080/"
        },
        "id": "JvKMPtgjolog",
        "outputId": "c2bfe48a-f03e-46cc-a59a-a3c1cb6b06c1"
      },
      "source": [
        "# 4. Generate a list of 4 digit no.s in a given range with all their digits even and the no. is a perfect square\n",
        "\n",
        "import math\n",
        "start=int(input(\"Enter a starting limit 4 digit no.:\"))\n",
        "end=int(input(\"enter a ending limit 4 digit no.:\"))\n",
        "perfect=[]\n",
        "for i in range(start,end+1):\n",
        "  flag=0\n",
        "  num=i\n",
        "  while num>0:\n",
        "    digit=num%10\n",
        "    if digit not in [0,2,4,6,8]:\n",
        "      flag=1\n",
        "      break\n",
        "    num=int(num/10)\n",
        "  if flag==0 and int(math.sqrt(i)+0.5)**2==i:\n",
        "    perfect.append(i)\n",
        "print(\"The list of perfect square no. are:\",perfect)"
      ],
      "execution_count": null,
      "outputs": [
        {
          "output_type": "stream",
          "text": [
            "Enter a starting limit 4 digit no.:1111\n",
            "enter a ending limit 4 digit no.:9999\n",
            "The list of perfect square no. are: [4624, 6084, 6400, 8464]\n"
          ],
          "name": "stdout"
        }
      ]
    },
    {
      "cell_type": "code",
      "metadata": {
        "colab": {
          "base_uri": "https://localhost:8080/"
        },
        "id": "tnNFWPnNXfuS",
        "outputId": "164a42df-8f72-4c18-ad1c-e04b41bccfb8"
      },
      "source": [
        "# 5 Display the given pyramid with step no. accepted from the user\n",
        "\n",
        "n=int(input(\"enter step no.:\"))\n",
        "for i in range(1,n+1):\n",
        "  for j in range(1,i+1):\n",
        "    print(i*j,end=' ')\n",
        "  print(' ')"
      ],
      "execution_count": null,
      "outputs": [
        {
          "output_type": "stream",
          "text": [
            "enter step no.:4\n",
            "1  \n",
            "2 4  \n",
            "3 6 9  \n",
            "4 8 12 16  \n"
          ],
          "name": "stdout"
        }
      ]
    },
    {
      "cell_type": "code",
      "metadata": {
        "colab": {
          "base_uri": "https://localhost:8080/"
        },
        "id": "hVz1Bk4CZQxS",
        "outputId": "2a4224ac-a2ac-40ac-a7df-af206eef367a"
      },
      "source": [
        "# 6 Count the number of characters in a string\n",
        "\n",
        "s = input(\"enter a string:\")\n",
        "count=0\n",
        "for i in range(len(s)):\n",
        "  if s[i] != ' ':\n",
        "    count+=1\n",
        "print(count)"
      ],
      "execution_count": null,
      "outputs": [
        {
          "output_type": "stream",
          "text": [
            "enter a string:ar athi\n",
            "6\n"
          ],
          "name": "stdout"
        }
      ]
    },
    {
      "cell_type": "code",
      "metadata": {
        "id": "ttaNPM4nbFkD",
        "colab": {
          "base_uri": "https://localhost:8080/"
        },
        "outputId": "1379cbd8-26b1-4ac2-a7f5-40a75bf0cf36"
      },
      "source": [
        "# 7 add 'ing' at the end of a given string. If it already ends with 'ing', then add 'ly'\n",
        "\n",
        "s = input(\"Enter a string:\")\n",
        "if (len(s)>2):\n",
        "  if (s[-3:]=='ing'):\n",
        "    s=s+'ly'\n",
        "  else:\n",
        "    s=s+'ing'\n",
        "print(s)"
      ],
      "execution_count": null,
      "outputs": [
        {
          "output_type": "stream",
          "text": [
            "Enter a string:sleeping\n",
            "sleepingly\n"
          ],
          "name": "stdout"
        }
      ]
    },
    {
      "cell_type": "code",
      "metadata": {
        "colab": {
          "base_uri": "https://localhost:8080/"
        },
        "id": "UXJtpYteh5jC",
        "outputId": "d5ef98b0-324a-470e-8904-17f13aabc97d"
      },
      "source": [
        "# 8 Accept a list of words and return length of longest word\n",
        "\n",
        "list=[]\n",
        "n=int(input(\"Enter no. of words:\"))\n",
        "for x in range(n):\n",
        "  x=(input(\"enter word\"))\n",
        "  list.append(x)\n",
        "print(list)\n",
        "max=len(list[0])\n",
        "temp=list[0]\n",
        "for i in list:\n",
        "  if len(i)>max:\n",
        "    max=len(i)\n",
        "    temp=i\n",
        "print(temp)\n"
      ],
      "execution_count": null,
      "outputs": [
        {
          "output_type": "stream",
          "text": [
            "Enter no. of words:3\n",
            "enter wordabc\n",
            "enter wordabcd\n",
            "enter wordab\n",
            "['abc', 'abcd', 'ab']\n",
            "abcd\n"
          ],
          "name": "stdout"
        }
      ]
    },
    {
      "cell_type": "code",
      "metadata": {
        "colab": {
          "base_uri": "https://localhost:8080/"
        },
        "id": "47EkuJSaoQGK",
        "outputId": "f5014512-0854-4c1c-b7c6-6cfaba9ae60e"
      },
      "source": [
        "# 9 construct pattern using nested loop\n",
        "\n",
        "n=int(input(\"enter steps:\"))\n",
        "for i in range(1,n):\n",
        "  for j in range(i):\n",
        "    print(\"*\",end=' ')\n",
        "  print()\n",
        "for i in range(n,0,-1):\n",
        "  for j in range(i):\n",
        "    print(\"*\",end=' ')\n",
        "  print()"
      ],
      "execution_count": null,
      "outputs": [
        {
          "output_type": "stream",
          "text": [
            "enter steps:5\n",
            "* \n",
            "* * \n",
            "* * * \n",
            "* * * * \n",
            "* * * * * \n",
            "* * * * \n",
            "* * * \n",
            "* * \n",
            "* \n"
          ],
          "name": "stdout"
        }
      ]
    },
    {
      "cell_type": "code",
      "metadata": {
        "colab": {
          "base_uri": "https://localhost:8080/"
        },
        "id": "rCa0dRouqr9y",
        "outputId": "dfaa26b6-3bd0-4fb7-b27b-63e0a9f489d8"
      },
      "source": [
        "# 10 construct all factors of a number\n",
        "\n",
        "n=int(input(\"enter the number:\"))\n",
        "for i in range(1,n+1):\n",
        "  if (n%i==0):\n",
        "    print(i)"
      ],
      "execution_count": null,
      "outputs": [
        {
          "output_type": "stream",
          "text": [
            "enter the number:60\n",
            "1\n",
            "2\n",
            "3\n",
            "4\n",
            "5\n",
            "6\n",
            "10\n",
            "12\n",
            "15\n",
            "20\n",
            "30\n",
            "60\n"
          ],
          "name": "stdout"
        }
      ]
    },
    {
      "cell_type": "code",
      "metadata": {
        "colab": {
          "base_uri": "https://localhost:8080/"
        },
        "id": "-wFVAmVir856",
        "outputId": "f0253060-a56a-454e-df19-b8284e32d2e0"
      },
      "source": [
        "# 11 Write lambda functions to find area of square,rectangle and triangle.\n",
        "\n",
        "a=int(input(\"enter the sides of square:\"))\n",
        "s_area=lambda a:a**2\n",
        "print(\"Area of square:\",s_area(a))\n",
        "\n",
        "l=int(input(\"Enter length of rectangle:\"))\n",
        "b=int(input(\"Enter breadth of rectangle:\"))\n",
        "r_area=lambda l,b:l*b\n",
        "print('Area of rectangle:',r_area(l,b))\n",
        "\n",
        "b=int(input(\"Enter base of triangle:\"))\n",
        "h=int(input(\"Enter height of triangle:\"))\n",
        "t_area=lambda b,h:.5*b*h\n",
        "print(\"Area of triangle:\",t_area(b,h))"
      ],
      "execution_count": null,
      "outputs": [
        {
          "output_type": "stream",
          "text": [
            "enter the sides of square:5\n",
            "Area of square: 25\n",
            "Enter length of rectangle:5\n",
            "Enter breadth of rectangle:6\n",
            "Area of rectangle: 30\n",
            "Enter base of triangle:10\n",
            "Enter height of triangle:3\n",
            "Area of triangle: 15.0\n"
          ],
          "name": "stdout"
        }
      ]
    }
  ]
}