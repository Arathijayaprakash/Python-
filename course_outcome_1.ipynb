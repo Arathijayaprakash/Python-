{
  "nbformat": 4,
  "nbformat_minor": 0,
  "metadata": {
    "colab": {
      "name": "course outcome 1",
      "provenance": [],
      "collapsed_sections": [],
      "authorship_tag": "ABX9TyO/+8UjUp8s3aKm+3gETKKP",
      "include_colab_link": true
    },
    "kernelspec": {
      "name": "python3",
      "display_name": "Python 3"
    }
  },
  "cells": [
    {
      "cell_type": "markdown",
      "metadata": {
        "id": "view-in-github",
        "colab_type": "text"
      },
      "source": [
        "<a href=\"https://colab.research.google.com/github/Arathijayaprakash/Python-/blob/master/course_outcome_1.ipynb\" target=\"_parent\"><img src=\"https://colab.research.google.com/assets/colab-badge.svg\" alt=\"Open In Colab\"/></a>"
      ]
    },
    {
      "cell_type": "code",
      "metadata": {
        "id": "deycVzgbDJ8w",
        "colab": {
          "base_uri": "https://localhost:8080/"
        },
        "outputId": "35b24dc5-c479-4fce-bc98-8b3bb0414e97"
      },
      "source": [
        "# 2  diplay future leap year from current year to a final year\n",
        " \n",
        "c=int(input(\"enter current year: \"))\n",
        "f=int(input(\"enter final year: \"))\n",
        "for i in range(c,f+1):\n",
        "  if ( i % 4 == 0 ) and ( i % 100 != 0 ) or ( i % 400 == 0 ):\n",
        "    print(i)\n",
        "  i+=1"
      ],
      "execution_count": null,
      "outputs": [
        {
          "output_type": "stream",
          "text": [
            "enter current year: 1900\n",
            "enter final year: 1920\n",
            "1904\n",
            "1908\n",
            "1912\n",
            "1916\n",
            "1920\n"
          ],
          "name": "stdout"
        }
      ]
    },
    {
      "cell_type": "code",
      "metadata": {
        "colab": {
          "base_uri": "https://localhost:8080/"
        },
        "id": "OHGBvP0cLNMm",
        "outputId": "69202941-616b-4bf9-ac47-73e604435edf"
      },
      "source": [
        "# 3  List comprehension \n",
        "\n",
        "# a)generate positive list of numbers from a given list of integers\n",
        "\n",
        "list=[1,-3,5,9,0,-8,2,6,-4]\n",
        "newlist=[x for x in list if x>0]\n",
        "print(newlist)\n",
        "\n",
        "# b)square of N numbers\n",
        "\n",
        "N=int(input(\"Enter number of no.s \"))\n",
        "list=[]\n",
        "for x in range(N):\n",
        "  x=int(input(\"enter no.\"))\n",
        "  list.append(x)\n",
        "print(list)\n",
        "squarelist=[x**2 for x in list]\n",
        "print(squarelist)\n",
        "\n",
        "# c)Form a list of vowels selected from a given word\n",
        "\n",
        "word=\"umberella\"\n",
        "vowels=\"aeiou\"\n",
        "list=[x for x in word if x in vowels]\n",
        "print(list)\n",
        "\n",
        "# d)List ordinal value of each element of a word\n",
        "\n",
        "word=\"flower\"\n",
        "list=[ord(x) for x in word]\n",
        "print(list)\n"
      ],
      "execution_count": null,
      "outputs": [
        {
          "output_type": "stream",
          "text": [
            "[1, 5, 9, 2, 6]\n",
            "Enter number of no.s 3\n",
            "enter no.3\n",
            "enter no.4\n",
            "enter no.5\n",
            "[3, 4, 5]\n",
            "[9, 16, 25]\n",
            "['u', 'e', 'e', 'a']\n",
            "[102, 108, 111, 119, 101, 114]\n"
          ],
          "name": "stdout"
        }
      ]
    },
    {
      "cell_type": "code",
      "metadata": {
        "id": "dxaB5hAgaH71",
        "colab": {
          "base_uri": "https://localhost:8080/"
        },
        "outputId": "99ba5dd6-937f-4691-e312-62ad78692986"
      },
      "source": [
        "#4 count the occurence of each word in a line of text\n",
        "\n",
        "text = \"it is very very big\"\n",
        "count = dict()\n",
        "words = text.split()\n",
        "for i in words:\n",
        "  if i in count:\n",
        "    count[i]+=1\n",
        "  else:\n",
        "    count[i]=1\n",
        "print(count)\n",
        "\n",
        "\n",
        "\n",
        "\n",
        "\n"
      ],
      "execution_count": null,
      "outputs": [
        {
          "output_type": "stream",
          "text": [
            "{'it': 1, 'is': 1, 'very': 2, 'big': 1}\n"
          ],
          "name": "stdout"
        }
      ]
    },
    {
      "cell_type": "code",
      "metadata": {
        "id": "CjZUBh9TIznd",
        "colab": {
          "base_uri": "https://localhost:8080/"
        },
        "outputId": "ce446507-49ee-4a27-e46f-ee133e079f0d"
      },
      "source": [
        "# 5  prompt the user for a list of integers.for all values greater than 100, store 'over' instead.\n",
        "\n",
        "list=[]\n",
        "n=int(input(\"enter size: \"))\n",
        "for i in range(0,n):\n",
        "  x=int(input(\"Enter no.\"))\n",
        "  if x>100:\n",
        "    list.append(\"over\")\n",
        "  else:\n",
        "    list.append(x)\n",
        "print(list)"
      ],
      "execution_count": null,
      "outputs": [
        {
          "output_type": "stream",
          "text": [
            "enter size: 5\n",
            "Enter no.23\n",
            "Enter no.100\n",
            "Enter no.234\n",
            "Enter no.46\n",
            "Enter no.456\n",
            "[23, 100, 'over', 46, 'over']\n"
          ],
          "name": "stdout"
        }
      ]
    },
    {
      "cell_type": "code",
      "metadata": {
        "colab": {
          "base_uri": "https://localhost:8080/"
        },
        "id": "hXG9-26ycWYT",
        "outputId": "2768312b-f939-4cf3-ff76-62ee87ef8dc3"
      },
      "source": [
        "#6 store a list of first names.Count the occurence of 'a' within the list\n",
        "\n",
        "l = input(\"enter names\")\n",
        "word=l.split()\n",
        "print(word)\n",
        "count=0\n",
        "for i in l:\n",
        "  if i==\"a\":\n",
        "    count+=1\n",
        "print(\"The occurence of a is\",count)"
      ],
      "execution_count": null,
      "outputs": [
        {
          "output_type": "stream",
          "text": [
            "enter namesarathi aparna amrutha\n",
            "['arathi', 'aparna', 'amrutha']\n",
            "The occurence of a is 7\n"
          ],
          "name": "stdout"
        }
      ]
    },
    {
      "cell_type": "code",
      "metadata": {
        "id": "ry9NPAt7EmPd",
        "colab": {
          "base_uri": "https://localhost:8080/"
        },
        "outputId": "bda1f1f8-0295-40cd-fcc9-c00b03d01772"
      },
      "source": [
        "# 7  enter 2 lists of integers check whether a)the lists are of same length b)sums to same value c)any value occur in both\n",
        "\n",
        "list1=[1,2,3,4,5]\n",
        "list2=[5,6,7,8,9]\n",
        "\n",
        "if len(list1)==len(list2):\n",
        "  print(\"the lists are of same length\")\n",
        "else:\n",
        "  print(\"not of same length\")\n",
        "\n",
        "sum1=0\n",
        "for x in list1:\n",
        "  sum1+=x\n",
        "sum2=0\n",
        "for x in list2:\n",
        "  sum2+=x\n",
        "if sum1==sum2:\n",
        "  print(\"lists sums to same value\")\n",
        "else:\n",
        "  print(\"sums not same value\")\n",
        "\n",
        "for x in list1:\n",
        " for y in list2:\n",
        "   if x==y:\n",
        "     print(\"value occur in both\")\n",
        "     break\n"
      ],
      "execution_count": null,
      "outputs": [
        {
          "output_type": "stream",
          "text": [
            "the lists are of same length\n",
            "sums not same value\n",
            "value occur in both\n"
          ],
          "name": "stdout"
        }
      ]
    },
    {
      "cell_type": "code",
      "metadata": {
        "id": "DtwDgubyfNY6"
      },
      "source": [
        "#8 Get a string from an input string where all occurence of first character replaced with '$',except first character.\n",
        "\n",
        "\n",
        "\n",
        "\n",
        "\n"
      ],
      "execution_count": null,
      "outputs": []
    },
    {
      "cell_type": "code",
      "metadata": {
        "id": "RoTAdD7jf5KY"
      },
      "source": [
        "#9 Create a string from given string where first and last characters exchanged.\n",
        "\n",
        "\n",
        "\n",
        "\n",
        "\n",
        "\n"
      ],
      "execution_count": null,
      "outputs": []
    },
    {
      "cell_type": "code",
      "metadata": {
        "colab": {
          "base_uri": "https://localhost:8080/"
        },
        "id": "h-KpMnKGO4GT",
        "outputId": "6c0e3000-e387-494c-ad77-fade40a42dc4"
      },
      "source": [
        "# 10  accept radius from the user and find the area of the circle.\n",
        "\n",
        "r=int(input(\"enter the radius: \"))\n",
        "a = 3.14*r**2\n",
        "print(\"area of the circle is\",a)\n"
      ],
      "execution_count": null,
      "outputs": [
        {
          "output_type": "stream",
          "text": [
            "enter the radius: 2\n",
            "area of the circle is 12.56\n"
          ],
          "name": "stdout"
        }
      ]
    },
    {
      "cell_type": "code",
      "metadata": {
        "colab": {
          "base_uri": "https://localhost:8080/"
        },
        "id": "moBlIVzAQKw6",
        "outputId": "b2158755-9fb1-4b1d-9460-001f24e928fc"
      },
      "source": [
        "# 11  find biggest of 3 no.s entered\n",
        "\n",
        "a=float(input(\"enter a no.\"))\n",
        "b=float(input(\"enter a no.\"))\n",
        "c=float(input(\"enter a no.\"))\n",
        "if a>b:\n",
        "  if a>c:\n",
        "    print(a,\"is biggest\")\n",
        "  else:\n",
        "    print(c,\"is biggest\")\n",
        "else:\n",
        "  if b<c:\n",
        "    print(c,\"is biggest\")\n",
        "  else:\n",
        "    print(b,\"is biggest\")"
      ],
      "execution_count": null,
      "outputs": [
        {
          "output_type": "stream",
          "text": [
            "enter a no.3.12\n",
            "enter a no.4.678\n",
            "enter a no.3.112\n",
            "4.678 is biggest\n"
          ],
          "name": "stdout"
        }
      ]
    },
    {
      "cell_type": "code",
      "metadata": {
        "id": "kMwuwZGRgLeH"
      },
      "source": [
        "# 12  Accept a file name from user and find area of circle.\n",
        "\n",
        "\n",
        "\n",
        "\n",
        "\n"
      ],
      "execution_count": null,
      "outputs": []
    },
    {
      "cell_type": "code",
      "metadata": {
        "id": "Jty2OR6Pgxe6"
      },
      "source": [
        "# 13  Create a list of colors from comma-seperated color names entered by user. Display first and last colors.\n",
        "\n",
        "\n",
        "\n",
        "\n",
        "\n"
      ],
      "execution_count": null,
      "outputs": []
    },
    {
      "cell_type": "code",
      "metadata": {
        "colab": {
          "base_uri": "https://localhost:8080/"
        },
        "id": "uUMZQFYwhbQz",
        "outputId": "e237e3e0-a95a-42db-98e3-23c94ec60d50"
      },
      "source": [
        "# 14  Accept an integer n and complete n+nn+nnn\n",
        "\n",
        "n = int(input(\"Enter a number: \"))\n",
        "m = n+(n*n)+(n*n*n)\n",
        "print(m)"
      ],
      "execution_count": null,
      "outputs": [
        {
          "output_type": "stream",
          "text": [
            "Enter a number: 2\n",
            "14\n"
          ],
          "name": "stdout"
        }
      ]
    },
    {
      "cell_type": "code",
      "metadata": {
        "colab": {
          "base_uri": "https://localhost:8080/"
        },
        "id": "97L9QCPYh_9E",
        "outputId": "68976c0d-2225-4f1c-9218-e89141f507d6"
      },
      "source": [
        "# 15  Print out of colors from color-list1 not contained in color-list2.\n",
        "\n",
        "\n",
        "list1=[\"red\",\"blue\",\"orange\"]\n",
        "list2=[\"black\",\"white\",\"red\"]\n",
        "for x in list1:\n",
        "  for y in list2:\n",
        "    if x == y:\n",
        "      list1.remove(x)\n",
        "print(list1)\n",
        "    \n"
      ],
      "execution_count": null,
      "outputs": [
        {
          "output_type": "stream",
          "text": [
            "['blue', 'orange']\n"
          ],
          "name": "stdout"
        }
      ]
    },
    {
      "cell_type": "code",
      "metadata": {
        "id": "lYU4gcfDkFqo"
      },
      "source": [
        "# 16  Create a single string seperated with space from two strings by swapping the character at position 1.\n",
        "\n",
        "\n",
        "\n",
        "\n",
        "\n",
        "\n"
      ],
      "execution_count": null,
      "outputs": []
    },
    {
      "cell_type": "code",
      "metadata": {
        "id": "JGV_1eYpkc8s"
      },
      "source": [
        "# 17  sort dictionary in ascending and descending order.\n",
        "\n",
        "\n",
        "\n",
        "\n",
        "\n"
      ],
      "execution_count": null,
      "outputs": []
    },
    {
      "cell_type": "code",
      "metadata": {
        "id": "vp0sR8ZkkrVb"
      },
      "source": [
        "# 18 Merge 2 dictionaries.\n",
        "\n",
        "\n",
        "\n",
        "\n",
        "\n"
      ],
      "execution_count": null,
      "outputs": []
    },
    {
      "cell_type": "markdown",
      "metadata": {
        "id": "SJMW56NSWDuw"
      },
      "source": [
        ""
      ]
    },
    {
      "cell_type": "code",
      "metadata": {
        "colab": {
          "base_uri": "https://localhost:8080/"
        },
        "id": "iBeSXIcnSSsm",
        "outputId": "d6dd1f64-747a-4872-fa0a-579a4a42c50e"
      },
      "source": [
        "# 19  find gcd of 2 numbers\n",
        "\n",
        "import math\n",
        "\n",
        "a=int(input(\"enter a no.\"))\n",
        "b=int(input(\"enter a no.\"))\n",
        "gcd=math.gcd(a,b)\n",
        "print(\"gcd of 2 no.s is\",gcd)"
      ],
      "execution_count": null,
      "outputs": [
        {
          "output_type": "stream",
          "text": [
            "enter a no.60\n",
            "enter a no.48\n",
            "gcd of 2 no.s is 12\n"
          ],
          "name": "stdout"
        }
      ]
    },
    {
      "cell_type": "code",
      "metadata": {
        "id": "-wpPlyEWWwoZ",
        "colab": {
          "base_uri": "https://localhost:8080/"
        },
        "outputId": "e8b471ae-3684-4a5e-9857-512274053ae5"
      },
      "source": [
        "# 20  from a list of integers, create a list removing even no.s\n",
        "\n",
        "list=[0,1,2,3,4,5,6,7,8,9]\n",
        "for x in list:\n",
        "  if ( x % 2 == 0 ):\n",
        "    list.remove(x)\n",
        "print(list)"
      ],
      "execution_count": null,
      "outputs": [
        {
          "output_type": "stream",
          "text": [
            "[1, 3, 5, 7, 9]\n"
          ],
          "name": "stdout"
        }
      ]
    }
  ]
}